{
 "cells": [
  {
   "cell_type": "markdown",
   "metadata": {},
   "source": [
    "# <p style='text-align: center;'>Matière à l'examen</p>"
   ]
  },
  {
   "cell_type": "markdown",
   "metadata": {},
   "source": [
    "## Notation\n",
    "\n",
    "Les noms de variables doivent être en camelCase ou avec la notation 'underscore'\n",
    "\n",
    "### Exercices\n",
    "\n",
    "<p style='text-decoration:underline'> 1 - Corriger si besoin le nom des variables suivantes pour qu'elles respectent les notations que nous avons vues.</p>\n",
    "\n",
    "<p style='font-weight:bold'>Je ne veux pas voir</p>\n",
    "<ul>\n",
    "    <li>Des accents</li>\n",
    "    <li>Des caractères spéciaux autres que underscore</li>\n",
    "    <li>Des majuscules ou des underscores mal placées</li>\n",
    "    <li>Des espaces</li>\n",
    "</ul>\n",
    "\n"
   ]
  },
  {
   "cell_type": "code",
   "execution_count": 3,
   "metadata": {},
   "outputs": [
    {
     "name": "stdout",
     "output_type": "stream",
     "text": [
      "=================================\n",
      "Test pour l'écriture de variables\n",
      "=================================\n",
      "----------------------\n",
      "\n",
      "\n",
      "Vous avez réussi 12/20\n",
      "\n",
      "\n",
      "----------------------\n"
     ]
    }
   ],
   "source": [
    "from utils import testCamelCase, testUnderScore\n",
    "import math\n",
    "\n",
    "#Corrigez ces variables pour qu'elles respectent la notation camelCase. Notez que certaines sont déjà correctement écrites.\n",
    "variables = \"\"\"\n",
    "prenomutilisateur\n",
    "\n",
    "salaireEmploye\n",
    "\n",
    "nomUtilisateur\n",
    "\n",
    "estNouvelUtilisateur\n",
    "\n",
    "temperatureActuelle\n",
    "\n",
    "adressEemail\n",
    "\n",
    "numerotele_phone\n",
    "\n",
    "tailleFichierMaximum\n",
    "\n",
    "montantTotal Paye\n",
    "\n",
    "Utilisateurconnecte\n",
    "\n",
    "CatalogueProduits\n",
    "\n",
    "coordonneesAdresseLivraison\n",
    "\n",
    "listeAdresses_Clients\n",
    "\n",
    "estDonneesValides\n",
    "\n",
    "nombreArticlesVendus\n",
    "\n",
    "estUtilisateurAdmin\n",
    "\n",
    "contenuPanierAchats\n",
    "\n",
    "numeroConfirmationCommande\n",
    "\n",
    "soldeCompte\n",
    "\n",
    "codeReductionapplique\n",
    "\"\"\"\n",
    "testCamelCase(variables)"
   ]
  },
  {
   "cell_type": "markdown",
   "metadata": {},
   "source": [
    "Les réécrires avec 'underscores'"
   ]
  },
  {
   "cell_type": "code",
   "execution_count": 4,
   "metadata": {},
   "outputs": [
    {
     "name": "stdout",
     "output_type": "stream",
     "text": [
      "=================================\n",
      "Test pour l'écriture de variables\n",
      "=================================\n",
      "---------------------\n",
      "\n",
      "\n",
      "Vous avez réussi 1/20\n",
      "\n",
      "\n",
      "---------------------\n"
     ]
    }
   ],
   "source": [
    "test = \"\"\"\n",
    "prenom_utilisateur\n",
    "2\n",
    "3\n",
    "4\n",
    "5\n",
    "6\n",
    "7\n",
    "8\n",
    "9\n",
    "10\n",
    "11\n",
    "12\n",
    "13\n",
    "14\n",
    "15\n",
    "16\n",
    "17\n",
    "18\n",
    "19\n",
    "20\n",
    "\"\"\"\n",
    "testUnderScore(test)"
   ]
  },
  {
   "cell_type": "code",
   "execution_count": null,
   "metadata": {},
   "outputs": [],
   "source": [
    "def ajouteQuatre(x):\n",
    "    ###################################################\n",
    "    #Écrire l'équation qui ajoute 4 à x\n",
    "\n",
    "    ###################################################\n",
    "    return x\n",
    "if ajouteQuatre(8) == 12 and ajouteQuatre(178) == 182:\n",
    "    print(\"Bien joué\")"
   ]
  },
  {
   "cell_type": "code",
   "execution_count": 7,
   "metadata": {},
   "outputs": [
    {
     "name": "stdout",
     "output_type": "stream",
     "text": [
      "Bien joué\n"
     ]
    }
   ],
   "source": [
    "def calculHypotenuse(x,y):\n",
    "    hypotenuse=0\n",
    "    ###################################################\n",
    "    #Écrire l'équation qui donne la longeur de l'hypoténuse d'un triangle rectangle dont les 2 cathètes sont x et y.\n",
    "    #Allez voir le théorème de Pythagore sur internet si vous avez oublié vos maths du secondaire.\n",
    "\n",
    "    \n",
    "\n",
    "    ###################################################\n",
    "    return hypotenuse\n",
    "\n",
    "if int(calculHypotenuse(3,4)) == 5 and round(calculHypotenuse(10,20),2) == 22.36:\n",
    "    print(\"Bien joué\")\n",
    "else:\n",
    "    print(\"Ce n'est pas ça!\")"
   ]
  },
  {
   "cell_type": "code",
   "execution_count": 24,
   "metadata": {},
   "outputs": [],
   "source": [
    "# Afficher \"Hello world\"\n"
   ]
  },
  {
   "cell_type": "code",
   "execution_count": 25,
   "metadata": {},
   "outputs": [],
   "source": [
    "#Demande à l'utilisateur d'entrer son nom\n",
    "#Affiche un message de bienvenue comprenant son nom"
   ]
  },
  {
   "cell_type": "code",
   "execution_count": 32,
   "metadata": {},
   "outputs": [
    {
     "name": "stdout",
     "output_type": "stream",
     "text": [
      "                XXXXXXXXXXXXXXXXXXXXXXXXXXXXXXXXXXXXXXXX\n",
      "                X                                      X\n",
      "                X          Avengers : Endgame          X\n",
      "                X                                      X\n",
      "                XXXXXXXXXXXXXXXXXXXXXXXXXXXXXXXXXXXXXXXX\n",
      "\n",
      "\n",
      "\n",
      "\n",
      "                XXXXXXXXXXXXXXXXXXXXXXXXXXXXXXXXXX\n",
      "                X                                X\n",
      "                X          Petit poulet          X\n",
      "                X                                X\n",
      "                XXXXXXXXXXXXXXXXXXXXXXXXXXXXXXXXXX\n"
     ]
    }
   ],
   "source": [
    "def titreEncadre(titre):\n",
    "    ########################################################\n",
    "    #Vous recevez un titre de longueur aléatoire dans la variable \"titre\" \n",
    "    #Vous devez afficher ce titre entouré de \"X\" avec 10 espaces à gauche et à droite\n",
    "    #Décollez de 16 caractères à gauche\n",
    "    #Tel que présenté ci-dessous\n",
    "    #\n",
    "    #                XXXXXXXXXXXXXXXXXXXXXXXXXXXXXX\n",
    "    #                X                            X\n",
    "    #                X          Le titre          X\n",
    "    #                X                            X\n",
    "    #                XXXXXXXXXXXXXXXXXXXXXXXXXXXXXX\n",
    "    \n",
    "\n",
    "\n",
    "    return None\n",
    "    \n",
    "\n",
    "titreEncadre(\"Avengers : Endgame\")\n",
    "print(\"\\n\\n\\n\")\n",
    "titreEncadre(\"Petit poulet\")\n"
   ]
  },
  {
   "cell_type": "code",
   "execution_count": 34,
   "metadata": {},
   "outputs": [
    {
     "name": "stdout",
     "output_type": "stream",
     "text": [
      "Bien joué\n"
     ]
    }
   ],
   "source": [
    "def estPair(nombre):\n",
    "    pair = None\n",
    "    ##########################################\n",
    "    #Vous recevez un nombre et vous devez déterminer s'il est pair ou impair\n",
    "    #S'il est pair, assigne True à pair, sinon assigne False\n",
    "    \n",
    "\n",
    "if estPair(4876) and not estPair(67543) and estPair(8798308):\n",
    "    print(\"Bien joué\")\n",
    "else:\n",
    "    print(\"Réessaye\")\n"
   ]
  },
  {
   "cell_type": "code",
   "execution_count": null,
   "metadata": {},
   "outputs": [],
   "source": [
    "#################################################\n",
    "#Demande à l'utilisateur de choisir l'une des option suivante en entrant le chiffre correspondant: \n",
    "#1 - raconte moi une blague\n",
    "#2 - insulte moi\n",
    "#3 - prédit mon avenir\n",
    "#\n",
    "#Si l'utilisateur entre une option invalide affiche : Dommage!"
   ]
  },
  {
   "cell_type": "code",
   "execution_count": null,
   "metadata": {},
   "outputs": [],
   "source": [
    "\n",
    "############################################\n",
    "#Ajouter des choses du côté droit de ces équations pour \n",
    "#qu'elles soient toutes vraies, mais vous ne pouvez pas utiliser +,-,*\n",
    "verif = True\n",
    "if not 136 == 136.3:\n",
    "    verif = False\n",
    "if not 1 == 145:\n",
    "    verif = False\n",
    "if not 12335.23143564 == 12335.231:\n",
    "    verif = False\n",
    "if not \"134\" == 134:\n",
    "    verif = False\n",
    "\n",
    " "
   ]
  },
  {
   "cell_type": "code",
   "execution_count": null,
   "metadata": {},
   "outputs": [],
   "source": [
    "#############################################\n",
    "#Pour pratiquer les if elif else allez à l'exercice 2 du laboratoire 3"
   ]
  },
  {
   "cell_type": "markdown",
   "metadata": {},
   "source": [
    "# <p style='text-align: center;'>Matière pas à l'examen 1</p>"
   ]
  },
  {
   "cell_type": "markdown",
   "metadata": {},
   "source": [
    "### <p style='text-decoration:underline'>Les boucles : </p>"
   ]
  }
 ],
 "metadata": {
  "kernelspec": {
   "display_name": "Python 3",
   "language": "python",
   "name": "python3"
  },
  "language_info": {
   "codemirror_mode": {
    "name": "ipython",
    "version": 3
   },
   "file_extension": ".py",
   "mimetype": "text/x-python",
   "name": "python",
   "nbconvert_exporter": "python",
   "pygments_lexer": "ipython3",
   "version": "3.11.5"
  },
  "orig_nbformat": 4
 },
 "nbformat": 4,
 "nbformat_minor": 2
}
